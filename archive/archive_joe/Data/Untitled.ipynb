{
 "cells": [
  {
   "cell_type": "code",
   "execution_count": 2,
   "metadata": {},
   "outputs": [],
   "source": [
    "import pickle, os\n",
    "import pandas as pd \n",
    "import numpy as np\n",
    "import matplotlib.pyplot as plt\n",
    "%matplotlib inline"
   ]
  },
  {
   "cell_type": "code",
   "execution_count": null,
   "metadata": {},
   "outputs": [],
   "source": [
    "# first label set with shape features correlated to volume\n",
    "# second without shape features"
   ]
  },
  {
   "cell_type": "code",
   "execution_count": 3,
   "metadata": {},
   "outputs": [],
   "source": [
    "def load_obj(name):\n",
    "    with open(name, 'rb') as f:\n",
    "        return pickle.load(f)"
   ]
  },
  {
   "cell_type": "code",
   "execution_count": 5,
   "metadata": {},
   "outputs": [],
   "source": [
    "labels = load_obj('/Users/josephmarsilla/Google Drive/notebooks/Cervix/Data/LABEL_2020_07_09_085837_100.pkl')"
   ]
  },
  {
   "cell_type": "code",
   "execution_count": 14,
   "metadata": {},
   "outputs": [
    {
     "data": {
      "text/plain": [
       "{0: 'shape_SurfaceVolumeRatio',\n",
       " 1: 'shape_SurfaceVolumeRatio',\n",
       " 2: 'shape_SurfaceVolumeRatio',\n",
       " 3: 'wavelet.wavelet.LLL_glcm_Correlation',\n",
       " 4: 'shape_SurfaceVolumeRatio',\n",
       " 5: 'shape_SurfaceVolumeRatio',\n",
       " 6: 'shape_SurfaceVolumeRatio',\n",
       " 7: 'shape_SurfaceVolumeRatio',\n",
       " 8: 'shape_SurfaceVolumeRatio',\n",
       " 9: 'shape_SurfaceVolumeRatio',\n",
       " 10: 'wavelet.wavelet.LLL_glcm_Correlation',\n",
       " 11: 'shape_SurfaceVolumeRatio',\n",
       " 12: 'shape_SurfaceVolumeRatio',\n",
       " 13: 'shape_SurfaceVolumeRatio',\n",
       " 14: 'shape_LeastAxisLength',\n",
       " 15: 'shape_SurfaceVolumeRatio',\n",
       " 16: 'shape_SurfaceVolumeRatio',\n",
       " 17: 'shape_SurfaceVolumeRatio',\n",
       " 18: 'wavelet.wavelet.LLL_glcm_Correlation',\n",
       " 19: 'shape_SurfaceVolumeRatio',\n",
       " 20: 'shape_LeastAxisLength',\n",
       " 21: 'wavelet.wavelet.LLL_glcm_Correlation',\n",
       " 22: 'shape_SurfaceVolumeRatio',\n",
       " 23: 'wavelet.wavelet.LLH_glcm_Imc2',\n",
       " 24: 'shape_SurfaceVolumeRatio',\n",
       " 25: 'wavelet.wavelet.LLL_glcm_Correlation',\n",
       " 26: 'shape_SurfaceVolumeRatio',\n",
       " 27: 'wavelet.wavelet.LLL_glcm_Correlation',\n",
       " 28: 'shape_SurfaceVolumeRatio',\n",
       " 29: 'shape_SurfaceVolumeRatio',\n",
       " 30: 'shape_SurfaceVolumeRatio',\n",
       " 31: 'wavelet.wavelet.LLL_glcm_Correlation',\n",
       " 32: 'shape_SurfaceVolumeRatio',\n",
       " 33: 'shape_LeastAxisLength',\n",
       " 34: 'shape_SurfaceVolumeRatio',\n",
       " 35: 'shape_SurfaceVolumeRatio',\n",
       " 36: 'shape_SurfaceVolumeRatio',\n",
       " 37: 'shape_LeastAxisLength',\n",
       " 38: 'wavelet.wavelet.LLH_glszm_GrayLevelNonUniformity',\n",
       " 39: 'shape_SurfaceVolumeRatio',\n",
       " 40: 'shape_SurfaceVolumeRatio',\n",
       " 41: 'wavelet.wavelet.LLL_glcm_Correlation',\n",
       " 42: 'shape_SurfaceVolumeRatio',\n",
       " 43: 'shape_SurfaceVolumeRatio',\n",
       " 44: 'shape_SurfaceVolumeRatio',\n",
       " 45: 'shape_LeastAxisLength',\n",
       " 46: 'shape_SurfaceVolumeRatio',\n",
       " 47: 'shape_Flatness',\n",
       " 48: 'shape_SurfaceVolumeRatio',\n",
       " 49: 'shape_SurfaceVolumeRatio',\n",
       " 50: 'wavelet.wavelet.HHH_gldm_SmallDependenceLowGrayLevelEmphasis',\n",
       " 51: 'wavelet.wavelet.LLL_glcm_Correlation',\n",
       " 52: 'shape_SurfaceVolumeRatio',\n",
       " 53: 'shape_SurfaceVolumeRatio',\n",
       " 54: 'wavelet.wavelet.LLL_glcm_Correlation',\n",
       " 55: 'shape_LeastAxisLength',\n",
       " 56: 'shape_SurfaceVolumeRatio',\n",
       " 57: 'shape_SurfaceVolumeRatio',\n",
       " 58: 'shape_SurfaceVolumeRatio',\n",
       " 59: 'log.sigma.1.5.mm.3D_glszm_GrayLevelNonUniformity',\n",
       " 60: 'shape_SurfaceVolumeRatio',\n",
       " 61: 'shape_SurfaceVolumeRatio',\n",
       " 62: 'shape_SurfaceVolumeRatio',\n",
       " 63: 'wavelet.wavelet.LHH_glszm_GrayLevelNonUniformity',\n",
       " 64: 'log.sigma.2.5.mm.3D_glszm_ZoneEntropy',\n",
       " 65: 'wavelet.wavelet.LLL_glcm_Correlation',\n",
       " 66: 'shape_SurfaceVolumeRatio',\n",
       " 67: 'log.sigma.2.0.mm.3D_glcm_JointAverage',\n",
       " 68: 'shape_SurfaceVolumeRatio',\n",
       " 69: 'log.sigma.2.0.mm.3D_glcm_Idn',\n",
       " 70: 'wavelet.wavelet.HHH_gldm_SmallDependenceLowGrayLevelEmphasis',\n",
       " 71: 'shape_SurfaceVolumeRatio',\n",
       " 72: 'shape_SurfaceVolumeRatio',\n",
       " 73: 'shape_SurfaceVolumeRatio',\n",
       " 74: 'shape_SurfaceVolumeRatio',\n",
       " 75: 'shape_SurfaceVolumeRatio',\n",
       " 76: 'shape_SurfaceVolumeRatio',\n",
       " 77: 'shape_SurfaceVolumeRatio',\n",
       " 78: 'shape_SurfaceVolumeRatio',\n",
       " 79: 'shape_SurfaceVolumeRatio',\n",
       " 80: 'shape_SurfaceVolumeRatio',\n",
       " 81: 'shape_SurfaceVolumeRatio',\n",
       " 82: 'shape_SurfaceVolumeRatio',\n",
       " 83: 'shape_SurfaceVolumeRatio',\n",
       " 84: 'shape_SurfaceVolumeRatio',\n",
       " 85: 'shape_SurfaceVolumeRatio',\n",
       " 86: 'wavelet.wavelet.HLL_glrlm_RunLengthNonUniformity',\n",
       " 87: 'shape_SurfaceVolumeRatio',\n",
       " 88: 'shape_SurfaceVolumeRatio',\n",
       " 89: 'shape_SurfaceVolumeRatio',\n",
       " 90: 'shape_SurfaceVolumeRatio',\n",
       " 91: 'shape_SurfaceVolumeRatio',\n",
       " 92: 'log.sigma.2.0.mm.3D_glrlm_RunLengthNonUniformity',\n",
       " 93: 'shape_SurfaceVolumeRatio',\n",
       " 94: 'shape_SurfaceVolumeRatio',\n",
       " 95: 'shape_SurfaceVolumeRatio',\n",
       " 96: 'shape_LeastAxisLength',\n",
       " 97: 'shape_SurfaceVolumeRatio',\n",
       " 98: 'shape_SurfaceVolumeRatio',\n",
       " 99: 'shape_SurfaceVolumeRatio'}"
      ]
     },
     "execution_count": 14,
     "metadata": {},
     "output_type": "execute_result"
    }
   ],
   "source": [
    "labels"
   ]
  },
  {
   "cell_type": "code",
   "execution_count": null,
   "metadata": {},
   "outputs": [],
   "source": []
  }
 ],
 "metadata": {
  "kernelspec": {
   "display_name": "Python 3",
   "language": "python",
   "name": "python3"
  },
  "language_info": {
   "codemirror_mode": {
    "name": "ipython",
    "version": 3
   },
   "file_extension": ".py",
   "mimetype": "text/x-python",
   "name": "python",
   "nbconvert_exporter": "python",
   "pygments_lexer": "ipython3",
   "version": "3.9.2"
  }
 },
 "nbformat": 4,
 "nbformat_minor": 4
}
