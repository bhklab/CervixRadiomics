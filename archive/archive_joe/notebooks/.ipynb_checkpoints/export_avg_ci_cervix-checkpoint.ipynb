{
 "cells": [
  {
   "cell_type": "code",
   "execution_count": 1,
   "metadata": {},
   "outputs": [],
   "source": [
    "#######################\n",
    "# summary of results...\n",
    "#######################\n",
    "import pandas as pd\n",
    "import os, pickle\n",
    "import numpy as np\n",
    "import matplotlib.pyplot as plt\n",
    "%matplotlib inline"
   ]
  },
  {
   "cell_type": "code",
   "execution_count": 2,
   "metadata": {},
   "outputs": [],
   "source": [
    "def load_obj(name):\n",
    "    with open(name, 'rb') as f:\n",
    "        return pickle.load(f)"
   ]
  },
  {
   "cell_type": "code",
   "execution_count": 12,
   "metadata": {},
   "outputs": [],
   "source": [
    "a = load_obj('/Users/josephmarsilla/Cervix/Data/VOLUMEREGNORM_2020_07_02_091812_100.pkl')\n",
    "b = load_obj('/Users/josephmarsilla/Cervix/Data/VOLUMECOHORTNORM_2020_07_01_212755_100.pkl')"
   ]
  },
  {
   "cell_type": "code",
   "execution_count": 9,
   "metadata": {},
   "outputs": [
    {
     "data": {
      "text/plain": [
       "100"
      ]
     },
     "execution_count": 9,
     "metadata": {},
     "output_type": "execute_result"
    }
   ],
   "source": [
    "len(a)"
   ]
  },
  {
   "cell_type": "code",
   "execution_count": 10,
   "metadata": {},
   "outputs": [
    {
     "data": {
      "text/plain": [
       "100"
      ]
     },
     "execution_count": 10,
     "metadata": {},
     "output_type": "execute_result"
    }
   ],
   "source": [
    "len(b)"
   ]
  },
  {
   "cell_type": "code",
   "execution_count": 14,
   "metadata": {},
   "outputs": [],
   "source": [
    "# vol by stage cohort norm...\n",
    "ci1 = np.zeros(len(b[0][1]))\n",
    "ci2 = np.zeros(len(b[0][1]))\n",
    "\n",
    "for i in range(len(b)):\n",
    "    for j in range(len(b[i][1])):\n",
    "        ci1[j] += b[i][1][j][0]\n",
    "        ci2[j] += b[i][1][j][1]"
   ]
  },
  {
   "cell_type": "code",
   "execution_count": null,
   "metadata": {},
   "outputs": [],
   "source": []
  },
  {
   "cell_type": "code",
   "execution_count": 17,
   "metadata": {},
   "outputs": [
    {
     "data": {
      "text/plain": [
       "array([0.31920746, 0.31920746, 0.31621914, 0.3204828 , 0.32570798,\n",
       "       0.31547069, 0.33620239, 0.33733883, 0.3408766 , 0.34115483,\n",
       "       0.35385027, 0.35556771, 0.34804158, 0.35058372, 0.35144282,\n",
       "       0.34476329, 0.34511636, 0.3537929 , 0.35559103, 0.35204305,\n",
       "       0.36314719, 0.35510576, 0.35837685, 0.3607124 , 0.35422268,\n",
       "       0.36783344, 0.36481584, 0.36320763, 0.36372104, 0.36814433,\n",
       "       0.36774771, 0.37742537, 0.3842395 , 0.37626829, 0.36926164,\n",
       "       0.37135222, 0.3658917 , 0.36144657, 0.36548793, 0.37096516])"
      ]
     },
     "execution_count": 17,
     "metadata": {},
     "output_type": "execute_result"
    }
   ],
   "source": [
    "ci1/100"
   ]
  },
  {
   "cell_type": "code",
   "execution_count": 18,
   "metadata": {},
   "outputs": [
    {
     "data": {
      "text/plain": [
       "array([0.49130665, 0.49130665, 0.50395139, 0.50159829, 0.49832246,\n",
       "       0.51465438, 0.51153489, 0.50770419, 0.51179862, 0.51192581,\n",
       "       0.50977623, 0.51150701, 0.51094025, 0.50622031, 0.50605661,\n",
       "       0.50368077, 0.50871551, 0.51219245, 0.51164254, 0.51074398,\n",
       "       0.5117886 , 0.51358876, 0.50919759, 0.50907722, 0.50622518,\n",
       "       0.50472307, 0.50590835, 0.50320709, 0.5013199 , 0.50433461,\n",
       "       0.50841705, 0.51074219, 0.5130585 , 0.5109965 , 0.51199014,\n",
       "       0.51398258, 0.51301017, 0.51314175, 0.5114025 , 0.50876552])"
      ]
     },
     "execution_count": 18,
     "metadata": {},
     "output_type": "execute_result"
    }
   ],
   "source": [
    "ci2/100"
   ]
  },
  {
   "cell_type": "code",
   "execution_count": 13,
   "metadata": {},
   "outputs": [],
   "source": [
    "# vol by stage reg norm...\n",
    "ci1r = np.zeros(len(a[0][1]))\n",
    "ci2r = np.zeros(len(a[0][1]))\n",
    "plot = [[],[]]\n",
    "for i in range(len(a)):\n",
    "    for j in range(len(a[i][1])):\n",
    "        if j == 0:\n",
    "            plot[0].append(a[i][1][j][0])\n",
    "            plot[1].append(a[i][1][j][1])\n",
    "        ci1r[j] += a[i][1][j][0]\n",
    "        ci2r[j] += a[i][1][j][1]"
   ]
  },
  {
   "cell_type": "code",
   "execution_count": null,
   "metadata": {},
   "outputs": [],
   "source": []
  },
  {
   "cell_type": "code",
   "execution_count": 16,
   "metadata": {},
   "outputs": [
    {
     "data": {
      "text/plain": [
       "Text(0.5, 0, 'Target Volume')"
      ]
     },
     "execution_count": 16,
     "metadata": {},
     "output_type": "execute_result"
    },
    {
     "data": {
      "image/png": "[encoded data removed]",
      "text/plain": [
       "<Figure size 432x288 with 1 Axes>"
      ]
     },
     "metadata": {
      "needs_background": "light"
     },
     "output_type": "display_data"
    }
   ],
   "source": [
    "# plt.switch_backend(\"agg\")\n",
    "chosen = ['Volume Figo=1', 'Volume Figo=2']\n",
    "# chosen = ['Volume', 'Volume+RAD', 'Figo', 'Figo + Rad', 'Rad Only']\n",
    "fig1 = plt.figure()\n",
    "plt.title(\"CI for Disease Free Survival in CSCC\")\n",
    "plt.boxplot(plot)\n",
    "plt.xticks(range(1, len(chosen) + 1), chosen, rotation=\"vertical\")\n",
    "plt.ylabel(\"CI\")\n",
    "plt.xlabel(\"Target Volume\")"
   ]
  },
  {
   "cell_type": "code",
   "execution_count": 20,
   "metadata": {},
   "outputs": [
    {
     "data": {
      "text/plain": [
       "array([0.54370266, 0.54370266, 0.50335317, 0.49229967, 0.48642959,\n",
       "       0.5001804 , 0.5143084 , 0.51583789, 0.52428428, 0.53308513,\n",
       "       0.54270385, 0.53921673, 0.54750214, 0.54792153, 0.5368126 ,\n",
       "       0.54865409, 0.55519762, 0.54399966, 0.5414434 , 0.5338936 ,\n",
       "       0.52580994, 0.53448889, 0.53045076, 0.53899706, 0.5338955 ,\n",
       "       0.52534116, 0.52950361, 0.54100324, 0.54252414, 0.54126185,\n",
       "       0.53712765, 0.54450104, 0.53465976, 0.53637832, 0.54270976,\n",
       "       0.53561502, 0.53805153, 0.54045864, 0.54647685, 0.54684083])"
      ]
     },
     "execution_count": 20,
     "metadata": {},
     "output_type": "execute_result"
    }
   ],
   "source": [
    "ci1r/100"
   ]
  },
  {
   "cell_type": "code",
   "execution_count": 21,
   "metadata": {},
   "outputs": [
    {
     "data": {
      "text/plain": [
       "array([0.66320645, 0.66320645, 0.63652035, 0.63442853, 0.63761121,\n",
       "       0.64315544, 0.65002754, 0.65227603, 0.65127939, 0.65283978,\n",
       "       0.65569773, 0.65522873, 0.6575605 , 0.65968753, 0.65681766,\n",
       "       0.65628226, 0.65540022, 0.65364141, 0.65132814, 0.65249027,\n",
       "       0.65310239, 0.65427105, 0.65123358, 0.64993912, 0.65072267,\n",
       "       0.65353108, 0.65378527, 0.65930296, 0.65788329, 0.65774296,\n",
       "       0.66089666, 0.6597065 , 0.66246514, 0.66118399, 0.66375443,\n",
       "       0.65856783, 0.65588256, 0.65745891, 0.65435054, 0.65706542])"
      ]
     },
     "execution_count": 21,
     "metadata": {},
     "output_type": "execute_result"
    }
   ],
   "source": [
    "ci2r/100"
   ]
  },
  {
   "cell_type": "code",
   "execution_count": 18,
   "metadata": {},
   "outputs": [],
   "source": [
    "c = load_obj('/Users/josephmarsilla/Cervix/Data/STAGEREGNORM_2020_07_02_093143_100.pkl')"
   ]
  },
  {
   "cell_type": "code",
   "execution_count": 19,
   "metadata": {},
   "outputs": [],
   "source": [
    "# vol by stage reg norm...\n",
    "ci1rs = np.zeros(len(c[0][1]))\n",
    "ci2rs = np.zeros(len(c[0][1]))\n",
    "plot = [[], [], [], []]\n",
    "\n",
    "for i in range(len(c)):\n",
    "    for j in range(len(c[i][1])):\n",
    "        \n",
    "        if j == 0:\n",
    "            plot[0].append(c[i][1][j][0])\n",
    "            plot[2].append(c[i][1][j][1])\n",
    "            \n",
    "        if j == 8:\n",
    "            plot[1].append(c[i][1][j][0])\n",
    "        \n",
    "        if j == 16:\n",
    "            plot[3].append(c[i][1][j][1])\n",
    "            \n",
    "        ci1rs[j] += c[i][1][j][0]\n",
    "        ci2rs[j] += c[i][1][j][1]"
   ]
  },
  {
   "cell_type": "code",
   "execution_count": 20,
   "metadata": {},
   "outputs": [
    {
     "data": {
      "text/plain": [
       "Text(0.5, 0, 'Target Volume')"
      ]
     },
     "execution_count": 20,
     "metadata": {},
     "output_type": "execute_result"
    },
    {
     "data": {
      "image/png": "[encoded data removed]",
      "text/plain": [
       "<Figure size 432x288 with 1 Axes>"
      ]
     },
     "metadata": {
      "needs_background": "light"
     },
     "output_type": "display_data"
    }
   ],
   "source": [
    "import matplotlib.pyplot as plt\n",
    "%matplotlib inline\n",
    "# plt.switch_backend(\"agg\")\n",
    "chosen = ['Stage Figo=1', 'Stage + RAD Figo=1', 'Stage Figo=2', 'Stage + RAD Figo=2']\n",
    "# chosen = ['Volume', 'Volume+RAD', 'Figo', 'Figo + Rad', 'Rad Only']\n",
    "fig1 = plt.figure()\n",
    "plt.title(\"CI for Disease Free Survival in CSCC\")\n",
    "plt.boxplot(plot)\n",
    "plt.xticks(range(1, len(chosen) + 1), chosen, rotation=\"vertical\")\n",
    "plt.ylabel(\"DSC\")\n",
    "plt.xlabel(\"Target Volume\")"
   ]
  },
  {
   "cell_type": "code",
   "execution_count": 27,
   "metadata": {},
   "outputs": [
    {
     "data": {
      "text/plain": [
       "array([0.52567544, 0.52567544, 0.50958965, 0.52551164, 0.51394677,\n",
       "       0.52780714, 0.54233297, 0.54921791, 0.5503614 , 0.52722381,\n",
       "       0.53040084, 0.52967249, 0.53074417, 0.52216004, 0.52568804,\n",
       "       0.52435345, 0.5273831 , 0.50351457, 0.50956217, 0.52091352,\n",
       "       0.51760518, 0.49886867, 0.50196442, 0.50109604, 0.50246209,\n",
       "       0.51178943, 0.52086111, 0.50869578, 0.51249012, 0.51567187,\n",
       "       0.5003382 , 0.49344456, 0.48640265, 0.48552352, 0.48701063,\n",
       "       0.48935449, 0.51549102, 0.51436037, 0.51562921, 0.50452379])"
      ]
     },
     "execution_count": 27,
     "metadata": {},
     "output_type": "execute_result"
    }
   ],
   "source": [
    "ci1rs/100"
   ]
  },
  {
   "cell_type": "code",
   "execution_count": 28,
   "metadata": {},
   "outputs": [
    {
     "data": {
      "text/plain": [
       "array([0.62523293, 0.62523293, 0.62896836, 0.63081687, 0.63795136,\n",
       "       0.64658267, 0.65016498, 0.65327738, 0.65903354, 0.65982253,\n",
       "       0.6592509 , 0.66326437, 0.66573158, 0.6685304 , 0.66905264,\n",
       "       0.6711295 , 0.67291802, 0.66681078, 0.66810384, 0.665508  ,\n",
       "       0.66466312, 0.67054636, 0.6686552 , 0.67040891, 0.67034882,\n",
       "       0.67004694, 0.66944068, 0.67370469, 0.67518176, 0.67383087,\n",
       "       0.67257249, 0.66890543, 0.66801779, 0.66611509, 0.66150679,\n",
       "       0.66046978, 0.66099436, 0.66217382, 0.66181678, 0.66165064])"
      ]
     },
     "execution_count": 28,
     "metadata": {},
     "output_type": "execute_result"
    }
   ],
   "source": [
    "ci2rs/100"
   ]
  },
  {
   "cell_type": "code",
   "execution_count": 29,
   "metadata": {},
   "outputs": [],
   "source": [
    "d = load_obj('/Users/josephmarsilla/Cervix/Data/STAGECOHORTNORM_2020_07_02_094054_100.pkl')"
   ]
  },
  {
   "cell_type": "code",
   "execution_count": 30,
   "metadata": {},
   "outputs": [],
   "source": [
    "# vol by stage reg norm...\n",
    "ci1rscn = np.zeros(len(d[0][1]))\n",
    "ci2rscn = np.zeros(len(d[0][1]))\n",
    "\n",
    "for i in range(len(d)):\n",
    "    for j in range(len(d[i][1])):\n",
    "        ci1rscn[j] += d[i][1][j][0]\n",
    "        ci2rscn[j] += d[i][1][j][1]"
   ]
  },
  {
   "cell_type": "code",
   "execution_count": 31,
   "metadata": {},
   "outputs": [
    {
     "data": {
      "text/plain": [
       "array([0.35362509, 0.35362509, 0.33337369, 0.32700664, 0.336784  ,\n",
       "       0.33729426, 0.33828612, 0.33698841, 0.34961607, 0.34389457,\n",
       "       0.32678601, 0.31916795, 0.3205222 , 0.32965264, 0.32641542,\n",
       "       0.32063594, 0.3091549 , 0.31763899, 0.310328  , 0.32580206,\n",
       "       0.33076129, 0.32201525, 0.32523792, 0.30321676, 0.31435649,\n",
       "       0.30517535, 0.30404186, 0.30834456, 0.31303666, 0.29954718,\n",
       "       0.30041634, 0.31493641, 0.3111475 , 0.3010564 , 0.31018604,\n",
       "       0.30028296, 0.29970651, 0.30699462, 0.30489385, 0.30991227])"
      ]
     },
     "execution_count": 31,
     "metadata": {},
     "output_type": "execute_result"
    }
   ],
   "source": [
    "ci1rscn/100"
   ]
  },
  {
   "cell_type": "code",
   "execution_count": 32,
   "metadata": {},
   "outputs": [
    {
     "data": {
      "text/plain": [
       "array([0.5126384 , 0.5126384 , 0.51131739, 0.51666583, 0.51892757,\n",
       "       0.5115337 , 0.50936213, 0.51082859, 0.50504329, 0.50327805,\n",
       "       0.49590257, 0.49158275, 0.48547748, 0.48835648, 0.48837167,\n",
       "       0.48839015, 0.4868805 , 0.48978786, 0.48851975, 0.49180846,\n",
       "       0.49554582, 0.4918728 , 0.48853201, 0.49796664, 0.49610242,\n",
       "       0.49806054, 0.49624416, 0.49769217, 0.49695215, 0.49814989,\n",
       "       0.50076247, 0.49949777, 0.49782421, 0.49243698, 0.49249454,\n",
       "       0.49150187, 0.49185767, 0.49462524, 0.4956337 , 0.49394993])"
      ]
     },
     "execution_count": 32,
     "metadata": {},
     "output_type": "execute_result"
    }
   ],
   "source": [
    "ci2rscn/100"
   ]
  },
  {
   "cell_type": "code",
   "execution_count": 6,
   "metadata": {},
   "outputs": [],
   "source": [
    "e = load_obj('/Users/josephmarsilla/Cervix/Data/RADREGNORM_2020_07_02_094747_100.pkl')"
   ]
  },
  {
   "cell_type": "code",
   "execution_count": 21,
   "metadata": {},
   "outputs": [],
   "source": [
    "# vol by stage reg norm...\n",
    "radreg = np.zeros(len(e[0][1]))\n",
    "radreg2 = np.zeros(len(e[0][1]))\n",
    "plot = [[],[]]\n",
    "for i in range(len(e)):\n",
    "    for j in range(len(e[i][1])):\n",
    "        if j ==6:\n",
    "            plot[0].append(e[i][1][j][0])\n",
    "        if j == 23:\n",
    "            plot[1].append(e[i][1][j][1])\n",
    "        radreg[j] += e[i][1][j][0]\n",
    "        radreg2[j] += e[i][1][j][1]"
   ]
  },
  {
   "cell_type": "code",
   "execution_count": 22,
   "metadata": {},
   "outputs": [
    {
     "data": {
      "text/plain": [
       "Text(0.5, 0, 'Target Volume')"
      ]
     },
     "execution_count": 22,
     "metadata": {},
     "output_type": "execute_result"
    },
    {
     "data": {
      "image/png": "[encoded data removed]",
      "text/plain": [
       "<Figure size 432x288 with 1 Axes>"
      ]
     },
     "metadata": {
      "needs_background": "light"
     },
     "output_type": "display_data"
    }
   ],
   "source": [
    "import matplotlib.pyplot as plt\n",
    "%matplotlib inline\n",
    "# plt.switch_backend(\"agg\")\n",
    "chosen = ['RAD Figo=1', 'RAD Figo=2']\n",
    "# chosen = ['Volume', 'Volume+RAD', 'Figo', 'Figo + Rad', 'Rad Only']\n",
    "fig1 = plt.figure()\n",
    "plt.title(\"CI for Disease Free Survival in CSCC\")\n",
    "plt.boxplot(plot)\n",
    "plt.xticks(range(1, len(chosen) + 1), chosen, rotation=\"vertical\")\n",
    "plt.ylabel(\"DSC\")\n",
    "plt.xlabel(\"Target Volume\")"
   ]
  },
  {
   "cell_type": "code",
   "execution_count": 8,
   "metadata": {},
   "outputs": [
    {
     "data": {
      "text/plain": [
       "array([0.46747404, 0.49747923, 0.47229127, 0.46952914, 0.47564529,\n",
       "       0.50435372, 0.50750478, 0.51326172, 0.50509121, 0.50639478,\n",
       "       0.50173541, 0.49213124, 0.50091372, 0.49811908, 0.50721358,\n",
       "       0.48597773, 0.49195257, 0.47954404, 0.47386411, 0.4707762 ,\n",
       "       0.4719921 , 0.46831676, 0.47896333, 0.47181651, 0.47651479,\n",
       "       0.47985572, 0.4823851 , 0.4800929 , 0.47753635, 0.48193678,\n",
       "       0.46733424, 0.47011634, 0.47571891, 0.49069248, 0.49374806,\n",
       "       0.49687604, 0.49708139, 0.49041335, 0.49473875, 0.49459589])"
      ]
     },
     "execution_count": 8,
     "metadata": {},
     "output_type": "execute_result"
    }
   ],
   "source": [
    "radreg/100"
   ]
  },
  {
   "cell_type": "code",
   "execution_count": 9,
   "metadata": {},
   "outputs": [
    {
     "data": {
      "text/plain": [
       "array([0.62109428, 0.61213745, 0.61066826, 0.61396981, 0.62148762,\n",
       "       0.62382841, 0.63227649, 0.63708675, 0.637967  , 0.64363615,\n",
       "       0.64681161, 0.64852025, 0.64581142, 0.64896427, 0.65354499,\n",
       "       0.65294496, 0.65460936, 0.65498967, 0.65886988, 0.65994829,\n",
       "       0.66567133, 0.66568069, 0.66617145, 0.67058687, 0.66774141,\n",
       "       0.66718678, 0.6673777 , 0.66503301, 0.66376896, 0.66240928,\n",
       "       0.66026655, 0.65651435, 0.65664752, 0.65401984, 0.65541013,\n",
       "       0.65797332, 0.65742955, 0.65764189, 0.65356106, 0.65302347])"
      ]
     },
     "execution_count": 9,
     "metadata": {},
     "output_type": "execute_result"
    }
   ],
   "source": [
    "radreg2/100"
   ]
  },
  {
   "cell_type": "code",
   "execution_count": 38,
   "metadata": {},
   "outputs": [],
   "source": [
    "f = load_obj('/Users/josephmarsilla/Cervix/Data/RADCOHORTNORM_2020_07_02_101059_100.pkl')"
   ]
  },
  {
   "cell_type": "code",
   "execution_count": 39,
   "metadata": {},
   "outputs": [],
   "source": [
    "# vol by stage reg norm...\n",
    "radreg1 = np.zeros(len(f[0][1]))\n",
    "radreg21 = np.zeros(len(f[0][1]))\n",
    "\n",
    "for i in range(len(f)):\n",
    "    for j in range(len(f[i][1])):\n",
    "        radreg1[j] += f[i][1][j][0]\n",
    "        radreg21[j] += f[i][1][j][1]"
   ]
  },
  {
   "cell_type": "code",
   "execution_count": 40,
   "metadata": {},
   "outputs": [
    {
     "data": {
      "text/plain": [
       "array([0.33712707, 0.34975852, 0.39240428, 0.37600929, 0.35882285,\n",
       "       0.38581817, 0.37900083, 0.39824259, 0.40193936, 0.39226438,\n",
       "       0.39486167, 0.40749616, 0.39829378, 0.39177869, 0.37921974,\n",
       "       0.37662051, 0.37156058, 0.36234657, 0.36485498, 0.36352572,\n",
       "       0.36912872, 0.37293823, 0.37091533, 0.35995318, 0.36931166,\n",
       "       0.37032258, 0.3602835 , 0.36882179, 0.36560833, 0.364618  ,\n",
       "       0.36296556, 0.36178698, 0.35160228, 0.36474153, 0.35354294,\n",
       "       0.3522832 , 0.35767512, 0.37466965, 0.3635284 , 0.36542079])"
      ]
     },
     "execution_count": 40,
     "metadata": {},
     "output_type": "execute_result"
    }
   ],
   "source": [
    "radreg1/100"
   ]
  },
  {
   "cell_type": "code",
   "execution_count": 41,
   "metadata": {},
   "outputs": [
    {
     "data": {
      "text/plain": [
       "array([0.49616267, 0.49235115, 0.49139802, 0.49442395, 0.49349783,\n",
       "       0.4963291 , 0.49407241, 0.49062533, 0.48790401, 0.48398528,\n",
       "       0.48492853, 0.4912373 , 0.48593113, 0.48654223, 0.48860333,\n",
       "       0.48510333, 0.48358778, 0.48231719, 0.48041532, 0.48750268,\n",
       "       0.49078713, 0.48861434, 0.48511892, 0.48601892, 0.49194718,\n",
       "       0.49052493, 0.48376003, 0.48197748, 0.48147985, 0.47985143,\n",
       "       0.48015571, 0.47952776, 0.48384851, 0.4821383 , 0.47883282,\n",
       "       0.4745966 , 0.47634274, 0.47580303, 0.47170517, 0.47532658])"
      ]
     },
     "execution_count": 41,
     "metadata": {},
     "output_type": "execute_result"
    }
   ],
   "source": [
    "radreg21/100"
   ]
  },
  {
   "cell_type": "code",
   "execution_count": 3,
   "metadata": {},
   "outputs": [],
   "source": [
    "#### NEW PLOTS #########\n",
    "f = load_obj('/Users/josephmarsilla/Cervix/Data/STATCOHORTREGNORM_2020_07_05_200245_100.pkl')\n",
    "g = load_obj('/Users/josephmarsilla/Cervix/Data/VOLCOHORTREGNORM_2020_07_06_094302_100.pkl')\n",
    "h = load_obj('/Users/josephmarsilla/Cervix/Data/RADCOHORTREGNORM_2020_07_06_094504_100.pkl')"
   ]
  },
  {
   "cell_type": "code",
   "execution_count": 8,
   "metadata": {},
   "outputs": [],
   "source": [
    "# vol by stage reg norm...\n",
    "radreg = np.zeros(len(h[0][1]))\n",
    "statreg = np.zeros(len(f[0][1]))\n",
    "volreg = np.zeros(len(g[0][1]))\n",
    "plot = [[],[],[],[],[]]\n",
    "labels = ['Volume', 'Stage', 'Radiomics', 'Vol + Radiomics', 'Stage + Radiomics']\n",
    "for i in range(len(f)):\n",
    "    for j in range(len(f[i][1])):\n",
    "        radreg[j] += h[i][1][j]\n",
    "        if j == 0:\n",
    "            plot[0].append(g[i][1][j])\n",
    "            plot[1].append(f[i][1][j])\n",
    "            plot[2].append(h[i][1][j])\n",
    "        if j == 7:\n",
    "            plot[4].append(f[i][1][j])\n",
    "        if j == 24:\n",
    "            plot[3].append(g[i][1][j])\n",
    "            \n",
    "        statreg[j] += f[i][1][j]\n",
    "        volreg[j] += g[i][1][j]"
   ]
  },
  {
   "cell_type": "code",
   "execution_count": 9,
   "metadata": {},
   "outputs": [
    {
     "data": {
      "text/plain": [
       "Text(0.5, 0, 'Category')"
      ]
     },
     "execution_count": 9,
     "metadata": {},
     "output_type": "execute_result"
    },
    {
     "data": {
      "image/png": "[encoded data removed]",
      "text/plain": [
       "<Figure size 432x288 with 1 Axes>"
      ]
     },
     "metadata": {
      "needs_background": "light"
     },
     "output_type": "display_data"
    }
   ],
   "source": [
    "# plt.switch_backend(\"agg\")\n",
    "# chosen = ['RAD Figo=1', 'RAD Figo=2']\n",
    "# chosen = ['Volume', 'Volume+RAD', 'Figo', 'Figo + Rad', 'Rad Only']\n",
    "fig1 = plt.figure()\n",
    "plt.title(\"CI for Disease Free Survival in CSCC\")\n",
    "plt.boxplot(plot)\n",
    "plt.xticks(range(1, len(labels) + 1), labels, rotation=\"vertical\")\n",
    "plt.ylabel(\"CI\")\n",
    "plt.xlabel(\"Category\")"
   ]
  },
  {
   "cell_type": "code",
   "execution_count": 5,
   "metadata": {},
   "outputs": [
    {
     "data": {
      "text/plain": [
       "array([0.68459264, 0.68188121, 0.67855263, 0.6736327 , 0.67650887,\n",
       "       0.67073761, 0.67159769, 0.66933478, 0.67051995, 0.67350262,\n",
       "       0.67454556, 0.67486173, 0.6735246 , 0.66989494, 0.67487527,\n",
       "       0.67049631, 0.67049875, 0.67346139, 0.66872975, 0.67266125,\n",
       "       0.67206077, 0.67388037, 0.67462082, 0.67684664, 0.6718809 ,\n",
       "       0.6778264 , 0.67744374, 0.67220066, 0.66943766, 0.66748126,\n",
       "       0.6707455 , 0.66971816, 0.66980798, 0.66878398, 0.66482994,\n",
       "       0.6627006 , 0.66213749, 0.66199748, 0.66442275])"
      ]
     },
     "execution_count": 5,
     "metadata": {},
     "output_type": "execute_result"
    }
   ],
   "source": [
    "radreg/100"
   ]
  },
  {
   "cell_type": "code",
   "execution_count": 6,
   "metadata": {},
   "outputs": [
    {
     "data": {
      "text/plain": [
       "array([0.65970799, 0.65970799, 0.66673894, 0.66962485, 0.67453429,\n",
       "       0.67356117, 0.67607532, 0.67988282, 0.67575317, 0.67913822,\n",
       "       0.67682487, 0.67520505, 0.67685242, 0.67532625, 0.67347783,\n",
       "       0.67156918, 0.67017954, 0.66814712, 0.67042719, 0.67063924,\n",
       "       0.67147381, 0.67109031, 0.67107411, 0.6713453 , 0.67267249,\n",
       "       0.67051019, 0.66849289, 0.66839034, 0.66917512, 0.67166953,\n",
       "       0.66998069, 0.67159269, 0.67004043, 0.67157124, 0.67233901,\n",
       "       0.67115227, 0.67183722, 0.66827441, 0.66722345])"
      ]
     },
     "execution_count": 6,
     "metadata": {},
     "output_type": "execute_result"
    }
   ],
   "source": [
    "statreg/100"
   ]
  },
  {
   "cell_type": "code",
   "execution_count": 7,
   "metadata": {},
   "outputs": [
    {
     "data": {
      "text/plain": [
       "array([0.64828831, 0.64828831, 0.65401753, 0.65187396, 0.65181319,\n",
       "       0.65601117, 0.66028529, 0.66636758, 0.66326123, 0.66195929,\n",
       "       0.66101597, 0.66589113, 0.66372476, 0.66570406, 0.66789378,\n",
       "       0.67075113, 0.67085845, 0.67171529, 0.67159274, 0.66989265,\n",
       "       0.66857164, 0.66753299, 0.67103782, 0.67079138, 0.67201337,\n",
       "       0.66933266, 0.66722248, 0.66768548, 0.66529086, 0.6598887 ,\n",
       "       0.66313936, 0.6590807 , 0.66264757, 0.663301  , 0.66430655,\n",
       "       0.66352532, 0.6633022 , 0.66324502, 0.66163395])"
      ]
     },
     "execution_count": 7,
     "metadata": {},
     "output_type": "execute_result"
    }
   ],
   "source": [
    "volreg/100"
   ]
  },
  {
   "cell_type": "code",
   "execution_count": 3,
   "metadata": {},
   "outputs": [],
   "source": [
    "#### New METRICS RADIOMICS ONLY ...\n",
    "q = load_obj('/Users/josephmarsilla/Google Drive/notebooks/Cervix/Data/RAD3COHORTREGNORM_2020_07_09_101409_100.pkl')"
   ]
  },
  {
   "cell_type": "code",
   "execution_count": 4,
   "metadata": {},
   "outputs": [],
   "source": [
    "# vol by stage reg norm...\n",
    "radreg = np.zeros(len(q[0][1]))\n",
    "# plot = [[],[]]\n",
    "for i in range(len(q)):\n",
    "    for j in range(len(q[i][1])):\n",
    "#         if j ==6:\n",
    "#             plot[0].append(e[i][1][j][0])\n",
    "#         if j == 23:\n",
    "#             plot[1].append(e[i][1][j][1])\n",
    "        radreg[j] += q[i][1][j]"
   ]
  },
  {
   "cell_type": "code",
   "execution_count": 5,
   "metadata": {},
   "outputs": [
    {
     "data": {
      "text/plain": [
       "array([0.69019391, 0.68358448, 0.6720953 , 0.66855846, 0.66673216,\n",
       "       0.6654162 , 0.66726009, 0.67094872, 0.67024193, 0.67102634,\n",
       "       0.67249043, 0.67565219, 0.67535662, 0.67261511, 0.67006973,\n",
       "       0.67049078, 0.67171435, 0.67135378, 0.6719892 , 0.67370484,\n",
       "       0.6721104 , 0.67435738, 0.67679764, 0.6733435 , 0.67622328,\n",
       "       0.67515512, 0.67267478, 0.67402033, 0.67089731, 0.6706002 ,\n",
       "       0.66980883, 0.67241688, 0.66995066, 0.66683581, 0.66561942,\n",
       "       0.66945937, 0.66682609, 0.66531737, 0.6624108 ])"
      ]
     },
     "execution_count": 5,
     "metadata": {},
     "output_type": "execute_result"
    }
   ],
   "source": [
    "radreg/100"
   ]
  },
  {
   "cell_type": "code",
   "execution_count": 6,
   "metadata": {},
   "outputs": [],
   "source": [
    "# label = load_obj('/Users/josephmarsilla/Google Drive/notebooks/Cervix/Data/LABELS_2020_07_09_101409_100.pkl')"
   ]
  },
  {
   "cell_type": "code",
   "execution_count": 8,
   "metadata": {},
   "outputs": [],
   "source": [
    "# label[0]"
   ]
  },
  {
   "cell_type": "code",
   "execution_count": 14,
   "metadata": {},
   "outputs": [],
   "source": [
    "#### New METRICS RADIOMICS ONLY ...\n",
    "z = load_obj('/Users/josephmarsilla/Google Drive/notebooks/Cervix/Data/RADREGNORM_2020_07_09_134302_100.pkl')"
   ]
  },
  {
   "cell_type": "code",
   "execution_count": 15,
   "metadata": {},
   "outputs": [],
   "source": [
    "# vol by stage reg norm...\n",
    "radreg = np.zeros(len(z[0][1]))\n",
    "# plot = [[],[]]\n",
    "for i in range(len(z)):\n",
    "    for j in range(len(z[i][1])):\n",
    "#         if j ==6:\n",
    "#             plot[0].append(e[i][1][j][0])\n",
    "#         if j == 23:\n",
    "#             plot[1].append(e[i][1][j][1])\n",
    "        radreg[j] += q[i][1][j]"
   ]
  },
  {
   "cell_type": "code",
   "execution_count": 16,
   "metadata": {},
   "outputs": [
    {
     "data": {
      "text/plain": [
       "array([69.01939123, 68.35844844, 67.20953006, 66.85584572, 66.67321577,\n",
       "       66.54161976, 66.72600922, 67.09487241, 67.02419284, 67.10263361,\n",
       "       67.24904341, 67.56521908, 67.5356616 , 67.26151055, 67.00697317,\n",
       "       67.04907847, 67.17143516, 67.13537849, 67.19892004, 67.37048406,\n",
       "       67.21104031, 67.43573766, 67.67976427, 67.33434997, 67.62232846,\n",
       "       67.51551213, 67.26747754, 67.40203297, 67.08973108, 67.06001966,\n",
       "       66.98088338, 67.24168795, 66.9950662 , 66.68358091, 66.56194244,\n",
       "       66.94593668, 66.68260947, 66.53173726, 66.24107979])"
      ]
     },
     "execution_count": 16,
     "metadata": {},
     "output_type": "execute_result"
    }
   ],
   "source": [
    "radreg"
   ]
  },
  {
   "cell_type": "code",
   "execution_count": 17,
   "metadata": {},
   "outputs": [],
   "source": [
    "label = load_obj('/Users/josephmarsilla/Google Drive/notebooks/Cervix/Data/LABELS_2020_07_09_134302_100.pkl')"
   ]
  },
  {
   "cell_type": "code",
   "execution_count": 23,
   "metadata": {},
   "outputs": [],
   "source": [
    "vals = []\n",
    "for i in list(label.keys()): \n",
    "    vals.append(label[i][1][0])"
   ]
  },
  {
   "cell_type": "code",
   "execution_count": null,
   "metadata": {},
   "outputs": [],
   "source": []
  },
  {
   "cell_type": "code",
   "execution_count": 25,
   "metadata": {},
   "outputs": [
    {
     "data": {
      "text/plain": [
       "<matplotlib.axes._subplots.AxesSubplot at 0x7fe77ed9ce50>"
      ]
     },
     "execution_count": 25,
     "metadata": {},
     "output_type": "execute_result"
    },
    {
     "data": {
      "image/png": "[encoded data removed]",
      "text/plain": [
       "<Figure size 432x288 with 1 Axes>"
      ]
     },
     "metadata": {
      "needs_background": "light"
     },
     "output_type": "display_data"
    }
   ],
   "source": [
    "import pandas\n",
    "from collections import Counter\n",
    "# a = ['a', 'a', 'a', 'a', 'b', 'b', 'c', 'c', 'c', 'd', 'e', 'e', 'e', 'e', 'e']\n",
    "letter_counts = Counter(vals)\n",
    "df = pandas.DataFrame.from_dict(letter_counts, orient='index')\n",
    "df.plot(kind='bar')"
   ]
  },
  {
   "cell_type": "code",
   "execution_count": null,
   "metadata": {},
   "outputs": [],
   "source": []
  }
 ],
 "metadata": {
  "kernelspec": {
   "display_name": "Python 3",
   "language": "python",
   "name": "python3"
  },
  "language_info": {
   "codemirror_mode": {
    "name": "ipython",
    "version": 3
   },
   "file_extension": ".py",
   "mimetype": "text/x-python",
   "name": "python",
   "nbconvert_exporter": "python",
   "pygments_lexer": "ipython3",
   "version": "3.7.6"
  }
 },
 "nbformat": 4,
 "nbformat_minor": 4
}
