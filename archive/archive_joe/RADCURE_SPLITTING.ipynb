{
 "cells": [
  {
   "cell_type": "code",
   "execution_count": 1,
   "id": "2e0a485f-eff1-42b7-a696-cfe202936b1a",
   "metadata": {},
   "outputs": [],
   "source": [
    "import pandas as pd"
   ]
  },
  {
   "cell_type": "code",
   "execution_count": 2,
   "id": "1f0a4b4d-ed5f-4638-aee7-bad4c27c1916",
   "metadata": {},
   "outputs": [],
   "source": [
    "data=pd.read_csv('/Users/joemarsilla/Downloads/full_radcure_csv.csv', index_col=0)"
   ]
  },
  {
   "cell_type": "code",
   "execution_count": 3,
   "id": "8553e5cf-bab6-4a86-9b14-a90174b84f9a",
   "metadata": {},
   "outputs": [
    {
     "data": {
      "text/html": [
       "<div>\n",
       "<style scoped>\n",
       "    .dataframe tbody tr th:only-of-type {\n",
       "        vertical-align: middle;\n",
       "    }\n",
       "\n",
       "    .dataframe tbody tr th {\n",
       "        vertical-align: top;\n",
       "    }\n",
       "\n",
       "    .dataframe thead th {\n",
       "        text-align: right;\n",
       "    }\n",
       "</style>\n",
       "<table border=\"1\" class=\"dataframe\">\n",
       "  <thead>\n",
       "    <tr style=\"text-align: right;\">\n",
       "      <th></th>\n",
       "      <th>0</th>\n",
       "      <th>1</th>\n",
       "      <th>2</th>\n",
       "    </tr>\n",
       "  </thead>\n",
       "  <tbody>\n",
       "    <tr>\n",
       "      <th>0</th>\n",
       "      <td>/cluster/projects/radiomics/Temp/joe/RADCURE_j...</td>\n",
       "      <td>/cluster/projects/radiomics/Temp/joe/RADCURE_j...</td>\n",
       "      <td>/cluster/projects/radiomics/Temp/joe/RADCURE_j...</td>\n",
       "    </tr>\n",
       "    <tr>\n",
       "      <th>1</th>\n",
       "      <td>/cluster/projects/radiomics/Temp/joe/RADCURE_j...</td>\n",
       "      <td>/cluster/projects/radiomics/Temp/joe/RADCURE_j...</td>\n",
       "      <td>/cluster/projects/radiomics/Temp/joe/RADCURE_j...</td>\n",
       "    </tr>\n",
       "    <tr>\n",
       "      <th>2</th>\n",
       "      <td>/cluster/projects/radiomics/Temp/joe/RADCURE_j...</td>\n",
       "      <td>/cluster/projects/radiomics/Temp/joe/RADCURE_j...</td>\n",
       "      <td>/cluster/projects/radiomics/Temp/joe/RADCURE_j...</td>\n",
       "    </tr>\n",
       "    <tr>\n",
       "      <th>3</th>\n",
       "      <td>/cluster/projects/radiomics/Temp/joe/RADCURE_j...</td>\n",
       "      <td>/cluster/projects/radiomics/Temp/joe/RADCURE_j...</td>\n",
       "      <td>/cluster/projects/radiomics/Temp/joe/RADCURE_j...</td>\n",
       "    </tr>\n",
       "    <tr>\n",
       "      <th>4</th>\n",
       "      <td>/cluster/projects/radiomics/Temp/joe/RADCURE_j...</td>\n",
       "      <td>/cluster/projects/radiomics/Temp/joe/RADCURE_j...</td>\n",
       "      <td>/cluster/projects/radiomics/Temp/joe/RADCURE_j...</td>\n",
       "    </tr>\n",
       "  </tbody>\n",
       "</table>\n",
       "</div>"
      ],
      "text/plain": [
       "                                                   0  \\\n",
       "0  /cluster/projects/radiomics/Temp/joe/RADCURE_j...   \n",
       "1  /cluster/projects/radiomics/Temp/joe/RADCURE_j...   \n",
       "2  /cluster/projects/radiomics/Temp/joe/RADCURE_j...   \n",
       "3  /cluster/projects/radiomics/Temp/joe/RADCURE_j...   \n",
       "4  /cluster/projects/radiomics/Temp/joe/RADCURE_j...   \n",
       "\n",
       "                                                   1  \\\n",
       "0  /cluster/projects/radiomics/Temp/joe/RADCURE_j...   \n",
       "1  /cluster/projects/radiomics/Temp/joe/RADCURE_j...   \n",
       "2  /cluster/projects/radiomics/Temp/joe/RADCURE_j...   \n",
       "3  /cluster/projects/radiomics/Temp/joe/RADCURE_j...   \n",
       "4  /cluster/projects/radiomics/Temp/joe/RADCURE_j...   \n",
       "\n",
       "                                                   2  \n",
       "0  /cluster/projects/radiomics/Temp/joe/RADCURE_j...  \n",
       "1  /cluster/projects/radiomics/Temp/joe/RADCURE_j...  \n",
       "2  /cluster/projects/radiomics/Temp/joe/RADCURE_j...  \n",
       "3  /cluster/projects/radiomics/Temp/joe/RADCURE_j...  \n",
       "4  /cluster/projects/radiomics/Temp/joe/RADCURE_j...  "
      ]
     },
     "execution_count": 3,
     "metadata": {},
     "output_type": "execute_result"
    }
   ],
   "source": [
    "data.head()"
   ]
  },
  {
   "cell_type": "code",
   "execution_count": 5,
   "id": "73700c67-830b-4313-b25a-48171d11c026",
   "metadata": {},
   "outputs": [],
   "source": [
    "from sklearn.model_selection import KFold"
   ]
  },
  {
   "cell_type": "code",
   "execution_count": 6,
   "id": "10d51917-3792-49bf-af33-bf42b412220b",
   "metadata": {},
   "outputs": [],
   "source": [
    "kf = KFold(n_splits=10)"
   ]
  },
  {
   "cell_type": "code",
   "execution_count": null,
   "id": "dcf4e9b3-1935-49ac-8750-e82297636482",
   "metadata": {},
   "outputs": [],
   "source": []
  },
  {
   "cell_type": "code",
   "execution_count": 7,
   "id": "fe8c0e46-1a66-4a01-a444-96dfee9bfbdd",
   "metadata": {},
   "outputs": [
    {
     "data": {
      "text/plain": [
       "10"
      ]
     },
     "execution_count": 7,
     "metadata": {},
     "output_type": "execute_result"
    }
   ],
   "source": [
    "kf.get_n_splits(data)"
   ]
  },
  {
   "cell_type": "code",
   "execution_count": 65,
   "id": "eaed4d6e-2369-431a-b307-0f255031f94e",
   "metadata": {},
   "outputs": [
    {
     "name": "stdout",
     "output_type": "stream",
     "text": [
      "481.5\n"
     ]
    }
   ],
   "source": [
    "import random\n",
    "print(len(data)*.15)\n",
    "hold_out_test=random.sample(range(len(data)), k=500)"
   ]
  },
  {
   "cell_type": "code",
   "execution_count": 61,
   "id": "39ea3c9d-a07b-4b68-8255-462c7cd4a3b1",
   "metadata": {},
   "outputs": [
    {
     "data": {
      "text/plain": [
       "3249"
      ]
     },
     "execution_count": 61,
     "metadata": {},
     "output_type": "execute_result"
    }
   ],
   "source": [
    "len(hold_out_test)+2749"
   ]
  },
  {
   "cell_type": "code",
   "execution_count": 66,
   "id": "3da0d832-2007-4b3d-81e4-602399d2f575",
   "metadata": {},
   "outputs": [],
   "source": [
    "remainder_training = [c for c in range(len(data)) if c not in hold_out_test]"
   ]
  },
  {
   "cell_type": "code",
   "execution_count": 67,
   "id": "b228e0ee-528a-4f97-906c-015f864da5d1",
   "metadata": {},
   "outputs": [
    {
     "data": {
      "text/plain": [
       "2710"
      ]
     },
     "execution_count": 67,
     "metadata": {},
     "output_type": "execute_result"
    }
   ],
   "source": [
    "len(remainder_training)"
   ]
  },
  {
   "cell_type": "code",
   "execution_count": 77,
   "id": "583eb8a9-1503-4c70-8e3b-a80f34087b00",
   "metadata": {},
   "outputs": [],
   "source": [
    "d = {}\n",
    "i = 0\n",
    "d['test_idx'] = hold_out_test\n",
    "random.shuffle(remainder_training)\n",
    "d['train_idx'] = remainder_training\n",
    "tr = data.iloc[remainder_training]\n",
    "for train_index, test_index in kf.split(tr):\n",
    "    d[i] = (list(train_index), list(test_index))\n",
    "    i+=1"
   ]
  },
  {
   "cell_type": "code",
   "execution_count": 92,
   "id": "277c3c83-b76b-4cf7-8cdc-ac3f54231332",
   "metadata": {},
   "outputs": [],
   "source": [
    "import pickle\n",
    "def save_obj(obj, name):\n",
    "    with open(name, \"wb\") as f:\n",
    "        pickle.dump(obj, f, pickle.HIGHEST_PROTOCOL)\n",
    "\n",
    "def load_obj(name):\n",
    "    with open(name, \"rb\") as f:\n",
    "        return pickle.load(f)"
   ]
  },
  {
   "cell_type": "code",
   "execution_count": 93,
   "id": "9ee16bbd-53cd-468c-a5ed-beb07515b476",
   "metadata": {},
   "outputs": [],
   "source": [
    "save_obj(d, 'radcure_full_splits_k10.pkl')"
   ]
  },
  {
   "cell_type": "code",
   "execution_count": 89,
   "id": "19eda024-8657-4d4b-b4ad-201e62dbcaa8",
   "metadata": {},
   "outputs": [
    {
     "data": {
      "text/plain": [
       "271"
      ]
     },
     "execution_count": 89,
     "metadata": {},
     "output_type": "execute_result"
    }
   ],
   "source": [
    "len(d[5][1])"
   ]
  },
  {
   "cell_type": "code",
   "execution_count": 12,
   "id": "de06a3d6-35e0-4e56-999f-fcc371047025",
   "metadata": {},
   "outputs": [
    {
     "data": {
      "text/plain": [
       "array([ 321,  322,  323, ..., 3207, 3208, 3209])"
      ]
     },
     "execution_count": 12,
     "metadata": {},
     "output_type": "execute_result"
    }
   ],
   "source": [
    "train_index"
   ]
  },
  {
   "cell_type": "code",
   "execution_count": 17,
   "id": "67fa80a9-ace5-4742-9b27-483ad2410a75",
   "metadata": {},
   "outputs": [
    {
     "data": {
      "text/html": [
       "<div>\n",
       "<style scoped>\n",
       "    .dataframe tbody tr th:only-of-type {\n",
       "        vertical-align: middle;\n",
       "    }\n",
       "\n",
       "    .dataframe tbody tr th {\n",
       "        vertical-align: top;\n",
       "    }\n",
       "\n",
       "    .dataframe thead th {\n",
       "        text-align: right;\n",
       "    }\n",
       "</style>\n",
       "<table border=\"1\" class=\"dataframe\">\n",
       "  <thead>\n",
       "    <tr style=\"text-align: right;\">\n",
       "      <th></th>\n",
       "      <th>0</th>\n",
       "      <th>1</th>\n",
       "      <th>2</th>\n",
       "    </tr>\n",
       "  </thead>\n",
       "  <tbody>\n",
       "    <tr>\n",
       "      <th>321</th>\n",
       "      <td>/cluster/projects/radiomics/Temp/joe/RADCURE_j...</td>\n",
       "      <td>/cluster/projects/radiomics/Temp/joe/RADCURE_j...</td>\n",
       "      <td>/cluster/projects/radiomics/Temp/joe/RADCURE_j...</td>\n",
       "    </tr>\n",
       "    <tr>\n",
       "      <th>322</th>\n",
       "      <td>/cluster/projects/radiomics/Temp/joe/RADCURE_j...</td>\n",
       "      <td>/cluster/projects/radiomics/Temp/joe/RADCURE_j...</td>\n",
       "      <td>/cluster/projects/radiomics/Temp/joe/RADCURE_j...</td>\n",
       "    </tr>\n",
       "    <tr>\n",
       "      <th>323</th>\n",
       "      <td>/cluster/projects/radiomics/Temp/joe/RADCURE_j...</td>\n",
       "      <td>/cluster/projects/radiomics/Temp/joe/RADCURE_j...</td>\n",
       "      <td>/cluster/projects/radiomics/Temp/joe/RADCURE_j...</td>\n",
       "    </tr>\n",
       "    <tr>\n",
       "      <th>324</th>\n",
       "      <td>/cluster/projects/radiomics/Temp/joe/RADCURE_j...</td>\n",
       "      <td>/cluster/projects/radiomics/Temp/joe/RADCURE_j...</td>\n",
       "      <td>/cluster/projects/radiomics/Temp/joe/RADCURE_j...</td>\n",
       "    </tr>\n",
       "    <tr>\n",
       "      <th>325</th>\n",
       "      <td>/cluster/projects/radiomics/Temp/joe/RADCURE_j...</td>\n",
       "      <td>/cluster/projects/radiomics/Temp/joe/RADCURE_j...</td>\n",
       "      <td>/cluster/projects/radiomics/Temp/joe/RADCURE_j...</td>\n",
       "    </tr>\n",
       "    <tr>\n",
       "      <th>...</th>\n",
       "      <td>...</td>\n",
       "      <td>...</td>\n",
       "      <td>...</td>\n",
       "    </tr>\n",
       "    <tr>\n",
       "      <th>3205</th>\n",
       "      <td>/cluster/projects/radiomics/Temp/joe/RADCURE_j...</td>\n",
       "      <td>/cluster/projects/radiomics/Temp/joe/RADCURE_j...</td>\n",
       "      <td>/cluster/projects/radiomics/Temp/joe/RADCURE_j...</td>\n",
       "    </tr>\n",
       "    <tr>\n",
       "      <th>3206</th>\n",
       "      <td>/cluster/projects/radiomics/Temp/joe/RADCURE_j...</td>\n",
       "      <td>/cluster/projects/radiomics/Temp/joe/RADCURE_j...</td>\n",
       "      <td>/cluster/projects/radiomics/Temp/joe/RADCURE_j...</td>\n",
       "    </tr>\n",
       "    <tr>\n",
       "      <th>3207</th>\n",
       "      <td>/cluster/projects/radiomics/Temp/joe/RADCURE_j...</td>\n",
       "      <td>/cluster/projects/radiomics/Temp/joe/RADCURE_j...</td>\n",
       "      <td>/cluster/projects/radiomics/Temp/joe/RADCURE_j...</td>\n",
       "    </tr>\n",
       "    <tr>\n",
       "      <th>3208</th>\n",
       "      <td>/cluster/projects/radiomics/Temp/joe/RADCURE_j...</td>\n",
       "      <td>/cluster/projects/radiomics/Temp/joe/RADCURE_j...</td>\n",
       "      <td>/cluster/projects/radiomics/Temp/joe/RADCURE_j...</td>\n",
       "    </tr>\n",
       "    <tr>\n",
       "      <th>3209</th>\n",
       "      <td>/cluster/projects/radiomics/Temp/joe/RADCURE_j...</td>\n",
       "      <td>/cluster/projects/radiomics/Temp/joe/RADCURE_j...</td>\n",
       "      <td>/cluster/projects/radiomics/Temp/joe/RADCURE_j...</td>\n",
       "    </tr>\n",
       "  </tbody>\n",
       "</table>\n",
       "<p>2889 rows × 3 columns</p>\n",
       "</div>"
      ],
      "text/plain": [
       "                                                      0  \\\n",
       "321   /cluster/projects/radiomics/Temp/joe/RADCURE_j...   \n",
       "322   /cluster/projects/radiomics/Temp/joe/RADCURE_j...   \n",
       "323   /cluster/projects/radiomics/Temp/joe/RADCURE_j...   \n",
       "324   /cluster/projects/radiomics/Temp/joe/RADCURE_j...   \n",
       "325   /cluster/projects/radiomics/Temp/joe/RADCURE_j...   \n",
       "...                                                 ...   \n",
       "3205  /cluster/projects/radiomics/Temp/joe/RADCURE_j...   \n",
       "3206  /cluster/projects/radiomics/Temp/joe/RADCURE_j...   \n",
       "3207  /cluster/projects/radiomics/Temp/joe/RADCURE_j...   \n",
       "3208  /cluster/projects/radiomics/Temp/joe/RADCURE_j...   \n",
       "3209  /cluster/projects/radiomics/Temp/joe/RADCURE_j...   \n",
       "\n",
       "                                                      1  \\\n",
       "321   /cluster/projects/radiomics/Temp/joe/RADCURE_j...   \n",
       "322   /cluster/projects/radiomics/Temp/joe/RADCURE_j...   \n",
       "323   /cluster/projects/radiomics/Temp/joe/RADCURE_j...   \n",
       "324   /cluster/projects/radiomics/Temp/joe/RADCURE_j...   \n",
       "325   /cluster/projects/radiomics/Temp/joe/RADCURE_j...   \n",
       "...                                                 ...   \n",
       "3205  /cluster/projects/radiomics/Temp/joe/RADCURE_j...   \n",
       "3206  /cluster/projects/radiomics/Temp/joe/RADCURE_j...   \n",
       "3207  /cluster/projects/radiomics/Temp/joe/RADCURE_j...   \n",
       "3208  /cluster/projects/radiomics/Temp/joe/RADCURE_j...   \n",
       "3209  /cluster/projects/radiomics/Temp/joe/RADCURE_j...   \n",
       "\n",
       "                                                      2  \n",
       "321   /cluster/projects/radiomics/Temp/joe/RADCURE_j...  \n",
       "322   /cluster/projects/radiomics/Temp/joe/RADCURE_j...  \n",
       "323   /cluster/projects/radiomics/Temp/joe/RADCURE_j...  \n",
       "324   /cluster/projects/radiomics/Temp/joe/RADCURE_j...  \n",
       "325   /cluster/projects/radiomics/Temp/joe/RADCURE_j...  \n",
       "...                                                 ...  \n",
       "3205  /cluster/projects/radiomics/Temp/joe/RADCURE_j...  \n",
       "3206  /cluster/projects/radiomics/Temp/joe/RADCURE_j...  \n",
       "3207  /cluster/projects/radiomics/Temp/joe/RADCURE_j...  \n",
       "3208  /cluster/projects/radiomics/Temp/joe/RADCURE_j...  \n",
       "3209  /cluster/projects/radiomics/Temp/joe/RADCURE_j...  \n",
       "\n",
       "[2889 rows x 3 columns]"
      ]
     },
     "execution_count": 17,
     "metadata": {},
     "output_type": "execute_result"
    }
   ],
   "source": [
    "data.iloc[list(train_index)]"
   ]
  },
  {
   "cell_type": "code",
   "execution_count": 43,
   "id": "9c991cfb-5cbf-4a7c-9822-2fc56016dc4b",
   "metadata": {},
   "outputs": [
    {
     "data": {
      "text/plain": [
       "'/cluster/projects/radiomics/Temp/joe/RADCURE_joe/img/4171920.nrrd'"
      ]
     },
     "execution_count": 43,
     "metadata": {},
     "output_type": "execute_result"
    }
   ],
   "source": [
    "d[0][0].iloc[14][0]"
   ]
  },
  {
   "cell_type": "code",
   "execution_count": null,
   "id": "4b589b97-31ab-43a5-8981-9eeef4215703",
   "metadata": {},
   "outputs": [],
   "source": []
  }
 ],
 "metadata": {
  "kernelspec": {
   "display_name": "Python 3 (ipykernel)",
   "language": "python",
   "name": "python3"
  },
  "language_info": {
   "codemirror_mode": {
    "name": "ipython",
    "version": 3
   },
   "file_extension": ".py",
   "mimetype": "text/x-python",
   "name": "python",
   "nbconvert_exporter": "python",
   "pygments_lexer": "ipython3",
   "version": "3.9.7"
  }
 },
 "nbformat": 4,
 "nbformat_minor": 5
}
